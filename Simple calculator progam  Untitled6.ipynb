{
 "cells": [
  {
   "cell_type": "code",
   "execution_count": 9,
   "id": "345cea76",
   "metadata": {},
   "outputs": [],
   "source": [
    "#les différentes fonctionnalités de notre calculatrice \n",
    "\n",
    "#Addition \n",
    "\n",
    "def addition (a,b):\n",
    "    return a + b\n",
    "\n",
    "#Subtraction \n",
    "\n",
    "def subtraction (a,b):\n",
    "    return a - b\n",
    "\n",
    "#Multiplication\n",
    "\n",
    "def multiplication (a,b):\n",
    "    return a * b\n",
    "\n",
    "#Division \n",
    "\n",
    "def division (a,b):\n",
    "    return a/b\n",
    "\n"
   ]
  },
  {
   "cell_type": "code",
   "execution_count": 16,
   "id": "2e69bd40",
   "metadata": {
    "scrolled": true
   },
   "outputs": [
    {
     "name": "stdout",
     "output_type": "stream",
     "text": [
      "Enter first number: \n",
      "12\n",
      "Enter second number: \n",
      "0\n",
      "What operation would you like to do?\n",
      "1-Addition\n",
      "2-Subtraction\n",
      "3-Multiplication\n",
      "4-Division\n",
      "please enter your choice: \n",
      "4\n",
      "impossible operation\n"
     ]
    }
   ],
   "source": [
    "#Interface avec pour faciliter l’utilisation \n",
    "\n",
    "print(\"Enter first number: \")\n",
    "num_1 = int(input())\n",
    "\n",
    "print(\"Enter second number: \")\n",
    "num_2 = int(input())\n",
    "\n",
    "print(\"What operation would you like to do?\")\n",
    "print(\"1-Addition\")\n",
    "print(\"2-Subtraction\")\n",
    "print(\"3-Multiplication\")\n",
    "print(\"4-Division\")\n",
    "\n",
    "print(\"please enter your choice: \")\n",
    "choice = int(input())\n",
    "\n",
    "if(choice==1):\n",
    "    print(\"{} + {} = {}\".format(num_1, num_2, addition (num_1, num_2)))\n",
    "elif(choice==2):\n",
    "    print(\"{} - {} = {}\".format(num_1, num_2, subtraction (num_1, num_2)))\n",
    "elif(choice==3):\n",
    "    print(\"{} * {} = {}\".format(num_1, num_2, multiplication (num_1, num_2)))\n",
    "elif(choice==4):\n",
    "    if(num_2 !=0):\n",
    "        print(\"{} / {} = {}\".format(num_1, num_2, division (num_1, num_2)))\n",
    "    else:\n",
    "        print(\"impossible operation\")        \n",
    "else:\n",
    "    print(\"there is a typing error\")\n",
    "    \n"
   ]
  },
  {
   "cell_type": "code",
   "execution_count": null,
   "id": "45571fd2",
   "metadata": {},
   "outputs": [],
   "source": []
  }
 ],
 "metadata": {
  "kernelspec": {
   "display_name": "Python 3",
   "language": "python",
   "name": "python3"
  },
  "language_info": {
   "codemirror_mode": {
    "name": "ipython",
    "version": 3
   },
   "file_extension": ".py",
   "mimetype": "text/x-python",
   "name": "python",
   "nbconvert_exporter": "python",
   "pygments_lexer": "ipython3",
   "version": "3.8.8"
  }
 },
 "nbformat": 4,
 "nbformat_minor": 5
}
